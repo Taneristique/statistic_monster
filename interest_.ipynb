{
 "cells": [
  {
   "cell_type": "code",
   "execution_count": null,
   "metadata": {},
   "outputs": [],
   "source": [
    "import matplotlib.pyplot as plt\n",
    "from sklearn import datasets,linear_model\n",
    "from sklearn.metrics import r2_score\n",
    "import numpy as np"
   ]
  },
  {
   "cell_type": "code",
   "execution_count": null,
   "metadata": {},
   "outputs": [],
   "source": [
    "print('please chose repeating at least 5')\n",
    "main_amount=int(input('How much money you have?\\n'))\n",
    "rate=float(input('interest rate as float e.g 0.06:\\n'))\n",
    "period_n=int(input('How many years will you put your money to normal interest? e.g 100 for one hundred years\\n'))\n",
    "period=1\n",
    "gain_x_month=int(input(\"In which frequence the compound interest will be paid to you?\\nfor example if period 1 and frequence 2 it means every 6 months compound interest will be paid in a year.\\n\"))\n",
    "repeat=int(input('How many times repeat compound interest?\\n you will increase the year you hold your money in compound interest if repeating value is more than 1\\nand do not forget float value is not allowed,only integer values accepted!\\n'))\n",
    "normal_interest_gains=[]\n",
    "normal_interest_time=[]\n",
    "def normal_interest(initial_capital,rate,length):\n",
    "    for i in range(length):\n",
    "        normal_interest_time.append(i+1)\n",
    "        initial_capital*=pow((1+rate),(i+1))\n",
    "        normal_interest_gains.append(initial_capital)\n",
    "        print( 'year : ', normal_interest_time[i], 'normal interest gains :', normal_interest_gains[i])\n",
    "        \n",
    "normal_interest(main_amount,rate,period_n)\n"
   ]
  },
  {
   "cell_type": "code",
   "execution_count": null,
   "metadata": {},
   "outputs": [],
   "source": [
    "compound_interest_gains=[]\n",
    "year_register=[]\n",
    "tp=[]\n",
    "\n",
    "def compound_interest(initial_amount,rate,month_length,gain_per_n_month):\n",
    "    count=1\n",
    "    count_empty_time=0\n",
    "    interest_gaining_time=month_length/gain_per_n_month\n",
    "    compound_interest_gains.append(initial_amount*pow((1+rate/interest_gaining_time),interest_gaining_time))\n",
    "    year=month_length/12\n",
    "    year_register.append(year)\n",
    "    \n",
    "def run_compound_interest(initial_amount,rate,month_length,gain_per_n_month,repeat):\n",
    "    c=[]\n",
    "    last_capital=0\n",
    "    for i in range(repeat): \n",
    "        i+=1\n",
    "        compound_interest(initial_amount,rate,month_length*i,gain_per_n_month)\n",
    "        last_capital+=compound_interest_gains[i-1]\n",
    "        tp.append(last_capital-initial_amount)\n",
    "        print( 'year : ', year_register[i-1], 'compound interest gains :', compound_interest_gains[i-1])\n",
    "        \n",
    "    return 'total profit : ',last_capital-initial_amount\n",
    "period_as_month=period=12*period\n",
    "run_compound_interest(main_amount,rate,period_as_month,gain_x_month,repeat)"
   ]
  },
  {
   "cell_type": "code",
   "execution_count": null,
   "metadata": {},
   "outputs": [],
   "source": [
    "plt.figure(figsize=(12,4))\n",
    "plt.plot(compound_interest_gains,tp)\n",
    "plt.show()\n",
    "\n",
    "plt.figure(figsize=(12,4))\n",
    "plt.plot(compound_interest_gains)\n",
    "plt.xticks(year_register)\n",
    "plt.show()\n"
   ]
  },
  {
   "cell_type": "code",
   "execution_count": null,
   "metadata": {},
   "outputs": [],
   "source": [
    "model=linear_model.LinearRegression()\n",
    "x0=np.array(year_register).reshape(-1,1)\n",
    "y0=np.array(compound_interest_gains)\n",
    "model.fit(x0,y0)\n",
    "r_sq=model.score(x0,y0)"
   ]
  },
  {
   "cell_type": "code",
   "execution_count": null,
   "metadata": {},
   "outputs": [],
   "source": [
    "print('coefficient of determination r**2 is ',r_sq)\n",
    "\n",
    "yfit = model.predict(x0)\n",
    "plt.figure(figsize=(16,9))\n",
    "plt.scatter(x0, y0)\n",
    "plt.plot(x0, yfit);\n",
    "plt.legend(['compound_interest_gains','regression_line'])\n",
    "plt.show()"
   ]
  },
  {
   "cell_type": "code",
   "execution_count": null,
   "metadata": {},
   "outputs": [],
   "source": [
    "model2=linear_model.LinearRegression()\n",
    "x=np.array(normal_interest_time).reshape(-1,1)\n",
    "y=np.array(normal_interest_gains)\n",
    "model2.fit(x,y)\n",
    "r_sq = model.score(x, y)\n",
    "print('coefficient of determination r**2 is ',r_sq)\n",
    "yfit=model2.predict(x)\n",
    "plt.figure(figsize=(16,9))\n",
    "plt.scatter(x,y)\n",
    "plt.plot(x,yfit)\n",
    "plt.legend(['normal_interest_gains','regression_line'])\n",
    "plt.show()"
   ]
  }
 ],
 "metadata": {
  "language_info": {
   "name": "python"
  },
  "orig_nbformat": 4
 },
 "nbformat": 4,
 "nbformat_minor": 2
}
